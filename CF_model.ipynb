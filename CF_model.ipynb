{
 "cells": [
  {
   "cell_type": "code",
   "execution_count": 49,
   "metadata": {
    "collapsed": true
   },
   "outputs": [],
   "source": [
    "from surprise import KNNBaseline, Reader\n",
    "from surprise import Dataset\n",
    "import json\n",
    "import pickle\n",
    "from nltk import FreqDist\n",
    "\n",
    "# 全局变量\n",
    "file = 'data.txt'\n",
    "line_format = 'user item rating'\n",
    "sep = '\\t'\n",
    "\n",
    "def read(file):\n",
    "    f = open(file,'r',encoding='utf8')\n",
    "    data = [json.loads(i) for i in f.readlines()]\n",
    "    f.close()\n",
    "    return data"
   ]
  },
  {
   "cell_type": "code",
   "execution_count": 2,
   "metadata": {},
   "outputs": [
    {
     "name": "stdout",
     "output_type": "stream",
     "text": [
      "加载歌单id到歌单名的映射完成...\n",
      "加载歌单名到歌单id的映射完成...\n"
     ]
    }
   ],
   "source": [
    "id_to_name = pickle.load(open('id_to_name.pkl','rb'))\n",
    "print('加载歌曲id到歌曲名的映射完成...')\n",
    "name_to_id = {id_to_name[iid]: iid for iid in id_to_name}\n",
    "print('加载歌曲名到歌曲id的映射完成...')"
   ]
  },
  {
   "cell_type": "code",
   "execution_count": 3,
   "metadata": {},
   "outputs": [
    {
     "name": "stdout",
     "output_type": "stream",
     "text": [
      "数据集构建完成...\n"
     ]
    }
   ],
   "source": [
    "reader = Reader(line_format=line_format, sep=sep)\n",
    "data = Dataset.load_from_file(file, reader=reader)\n",
    "trainset = data.build_full_trainset()\n",
    "print('数据集构建完成...')"
   ]
  },
  {
   "cell_type": "code",
   "execution_count": 5,
   "metadata": {},
   "outputs": [
    {
     "name": "stderr",
     "output_type": "stream",
     "text": [
      "D:\\softwares\\Anaconda\\lib\\site-packages\\surprise\\prediction_algorithms\\algo_base.py:51: UserWarning: train() is deprecated. Use fit() instead\n",
      "  warnings.warn('train() is deprecated. Use fit() instead', UserWarning)\n"
     ]
    },
    {
     "name": "stdout",
     "output_type": "stream",
     "text": [
      "Estimating biases using als...\n",
      "Computing the pearson_baseline similarity matrix...\n",
      "Done computing similarity matrix.\n"
     ]
    },
    {
     "data": {
      "text/plain": [
       "<surprise.prediction_algorithms.knns.KNNBaseline at 0x223af704470>"
      ]
     },
     "execution_count": 5,
     "metadata": {},
     "output_type": "execute_result"
    }
   ],
   "source": [
    "sim_options = {'name': 'pearson_baseline', 'user_based': False}\n",
    "algo = KNNBaseline(sim_options=sim_options)\n",
    "algo.train(trainset)"
   ]
  },
  {
   "cell_type": "code",
   "execution_count": 10,
   "metadata": {
    "collapsed": true
   },
   "outputs": [],
   "source": [
    "pickle.dump(algo, open('model.pkl','wb'))"
   ]
  },
  {
   "cell_type": "code",
   "execution_count": 13,
   "metadata": {
    "collapsed": true
   },
   "outputs": [],
   "source": [
    "def recommond(sid):\n",
    "    print('为歌曲《%s》推荐：'%id_to_name[sid])\n",
    "    inner_id = trainset.to_inner_iid(str(sid))\n",
    "\n",
    "    # 找到最近的10个邻居\n",
    "    neighbors = (algo.get_neighbors(inner_id, k=10))\n",
    "    # 打印对应的item名称\n",
    "    neighbors = [id_to_name[int(trainset.to_raw_iid(n))] for n in neighbors]\n",
    "    \n",
    "    print(neighbors)\n",
    "    print()"
   ]
  },
  {
   "cell_type": "code",
   "execution_count": 16,
   "metadata": {
    "scrolled": true
   },
   "outputs": [
    {
     "name": "stdout",
     "output_type": "stream",
     "text": [
      "为歌曲《我喜欢上你时的内心活动》推荐：\n",
      "['岁月神偷', '春风十里', '追光者', '我要你', '致姗姗来迟的你 ', '小半', '可乐', '我多喜欢你，你会知道', '就是爱你', '红色高跟鞋']\n",
      "\n",
      "为歌曲《纤夫的爱》推荐：\n",
      "['青青河边草', '千年等一回', '知心爱人', '上海滩', '中华民谣', '懂你', '窗外', '众人划桨开大船', '天不下雨天不刮风天上有太阳', '心雨']\n",
      "\n",
      "为歌曲《空空如也》推荐：\n",
      "['非酋', '岁月神偷', '说散就散', '小半', '追光者', '我唯一青春里的路人', '不找了', '其实，我就在你方圆几里（Cover 薛之谦）', '暧昧', '再也没有']\n",
      "\n",
      "为歌曲《成全》推荐：\n",
      "['说谎', '我们', '可乐', '你就不要想起我', '戒烟', '哑巴', '你，好不好？', '浪费', '后来的我们', '空空如也 ']\n",
      "\n"
     ]
    }
   ],
   "source": [
    "recommond(471403427)\n",
    "recommond(181946)\n",
    "recommond(name_to_id['空空如也'])\n",
    "recommond(562594267)"
   ]
  },
  {
   "cell_type": "code",
   "execution_count": 45,
   "metadata": {},
   "outputs": [
    {
     "name": "stdout",
     "output_type": "stream",
     "text": [
      "加载歌单id到包含的歌曲id列表的映射完成...\n",
      "加载歌曲id到歌单id列表的映射完成...\n"
     ]
    }
   ],
   "source": [
    "pid_to_sid = pickle.load(open('playlist.pkl','rb'))\n",
    "print('加载歌单id到包含的歌曲id列表的映射完成...')\n",
    "sid_to_pid = dict()\n",
    "for pid in pid_to_sid:\n",
    "    for s in pid_to_sid[pid]:\n",
    "        if s not in sid_to_pid:\n",
    "            sid_to_pid[s] = []\n",
    "        sid_to_pid[s].append(pid)\n",
    "print('加载歌曲id到歌单id列表的映射完成...')"
   ]
  },
  {
   "cell_type": "code",
   "execution_count": 4,
   "metadata": {},
   "outputs": [
    {
     "name": "stderr",
     "output_type": "stream",
     "text": [
      "D:\\softwares\\Anaconda\\lib\\site-packages\\surprise\\prediction_algorithms\\algo_base.py:51: UserWarning: train() is deprecated. Use fit() instead\n",
      "  warnings.warn('train() is deprecated. Use fit() instead', UserWarning)\n"
     ]
    },
    {
     "name": "stdout",
     "output_type": "stream",
     "text": [
      "Estimating biases using als...\n",
      "Computing the pearson_baseline similarity matrix...\n",
      "Done computing similarity matrix.\n"
     ]
    }
   ],
   "source": [
    "sim_options = {'name': 'pearson_baseline', 'user_based': True}\n",
    "algo = KNNBaseline(sim_options=sim_options)\n",
    "algo.train(trainset)\n",
    "pickle.dump(algo, open('userCF.pkl','wb'))"
   ]
  },
  {
   "cell_type": "code",
   "execution_count": 61,
   "metadata": {},
   "outputs": [],
   "source": [
    "def recommond_playlist(pid):\n",
    "    print('为id为《%s》的歌单推荐的其他歌单的id：'%str(pid))\n",
    "    uid = trainset.to_inner_uid(str(pid))\n",
    "    neighbors = algo.get_neighbors(uid,k=10)\n",
    "    print([trainset.to_raw_uid(n) for n in neighbors])\n",
    "    print()\n",
    "\n",
    "def recommond_songs(sid):\n",
    "    print('为歌曲《%s》推荐：'%id_to_name[sid])\n",
    "    pids = sid_to_pid[sid]\n",
    "    neighbors = []\n",
    "    for pid in pids:\n",
    "        uid = trainset.to_inner_uid(str(pid))\n",
    "        for neigh in algo.get_neighbors(uid,k=10):\n",
    "            neighbors += pid_to_sid[int(trainset.to_raw_uid(neigh))]\n",
    "    neighbors = [id_to_name[i] for i,_ in FreqDist(neighbors).most_common()[:10]]\n",
    "    print(neighbors)\n",
    "    print()"
   ]
  },
  {
   "cell_type": "code",
   "execution_count": 55,
   "metadata": {},
   "outputs": [
    {
     "name": "stdout",
     "output_type": "stream",
     "text": [
      "为id为《2239964825》的歌单推荐的其他歌单的id：\n",
      "['1991114941', '723552791', '2147373807', '2124336941', '778008332', '942833866', '982358515', '906995729', '611796201', '2170719494']\n",
      "\n"
     ]
    }
   ],
   "source": [
    "recommond_playlist(2239964825)"
   ]
  },
  {
   "cell_type": "code",
   "execution_count": 62,
   "metadata": {},
   "outputs": [
    {
     "name": "stdout",
     "output_type": "stream",
     "text": [
      "为歌曲《我喜欢上你时的内心活动》推荐：\n",
      "['小半', '岁月神偷', '追光者', '就是爱你', '遇见', '春风十里', '理想三旬', '可乐', '红色高跟鞋', '我喜欢上你时的内心活动']\n",
      "\n",
      "为歌曲《纤夫的爱》推荐：\n",
      "['风中有朵雨做的云', '心雨', '新鸳鸯蝴蝶梦', '懂你', '涛声依旧', '偏偏喜欢你', '潇洒走一回', '青青河边草', '我想有个家', '月亮代表我的心']\n",
      "\n",
      "为歌曲《空空如也》推荐：\n",
      "['小半', '岁月神偷', '可乐', '追光者', '过客', '白羊', '暧昧', '起风了（Cover 高橋優）', '演员', '你，好不好？']\n",
      "\n",
      "为歌曲《成全》推荐：\n",
      "['岁月神偷', '可乐', '小半', '你，好不好？', '你还要我怎样', '追光者', '暧昧', '过客', '白羊', '说谎']\n",
      "\n"
     ]
    }
   ],
   "source": [
    "recommond_songs(471403427)\n",
    "recommond_songs(181946)\n",
    "recommond_songs(name_to_id['空空如也'])\n",
    "recommond_songs(562594267)"
   ]
  }
 ],
 "metadata": {
  "kernelspec": {
   "display_name": "Python 3",
   "language": "python",
   "name": "python3"
  },
  "language_info": {
   "codemirror_mode": {
    "name": "ipython",
    "version": 3
   },
   "file_extension": ".py",
   "mimetype": "text/x-python",
   "name": "python",
   "nbconvert_exporter": "python",
   "pygments_lexer": "ipython3",
   "version": "3.6.1"
  }
 },
 "nbformat": 4,
 "nbformat_minor": 2
}
