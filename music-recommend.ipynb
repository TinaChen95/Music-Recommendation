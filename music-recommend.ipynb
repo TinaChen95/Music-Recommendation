{
 "cells": [
  {
   "cell_type": "code",
   "execution_count": 1,
   "metadata": {},
   "outputs": [
    {
     "name": "stderr",
     "output_type": "stream",
     "text": [
      "Using TensorFlow backend.\n"
     ]
    }
   ],
   "source": [
    "import os\n",
    "os.chdir('/Users/zoe/Documents/复旦课程/大数据商业分析/pj2')\n",
    "import json\n",
    "import gensim\n",
    "from gensim.models import Word2Vec\n",
    "import random\n",
    "import collections"
   ]
  },
  {
   "cell_type": "code",
   "execution_count": 2,
   "metadata": {},
   "outputs": [
    {
     "name": "stdout",
     "output_type": "stream",
     "text": [
      "41032\n"
     ]
    }
   ],
   "source": [
    "# 得到歌单\n",
    "with open('hot.json', 'r', encoding='utf8') as file:\n",
    "    contents = [json.loads(one) for one in file.readlines()]\n",
    "print(len(contents))"
   ]
  },
  {
   "cell_type": "code",
   "execution_count": 3,
   "metadata": {},
   "outputs": [
    {
     "name": "stdout",
     "output_type": "stream",
     "text": [
      "26423\n",
      "26420\n"
     ]
    }
   ],
   "source": [
    "# 找出songs大于1的\n",
    "contents_new = [one for one in contents if len(one['songs'])>1]\n",
    "print(len(contents_new))\n",
    "\n",
    "# 去重，后面的歌单替换前面的\n",
    "contents_dst = dict()\n",
    "for one in contents_new:\n",
    "    contents_dst[one['id']] = one\n",
    "contents_dst = list(contents_dst.values())\n",
    "print(len(contents_dst))"
   ]
  },
  {
   "cell_type": "code",
   "execution_count": 4,
   "metadata": {},
   "outputs": [
    {
     "data": {
      "text/plain": [
       "26411"
      ]
     },
     "execution_count": 4,
     "metadata": {},
     "output_type": "execute_result"
    }
   ],
   "source": [
    "# 歌单中歌曲数大于n的；\n",
    "len(list(filter(lambda x:True if len(x['songs'])>5 else False, contents_dst)))"
   ]
  },
  {
   "cell_type": "code",
   "execution_count": 4,
   "metadata": {},
   "outputs": [],
   "source": [
    "# 处理songs\n",
    "songs = []\n",
    "with open('songs.json', 'r', encoding='utf8') as file:\n",
    "    for one in file.readlines():\n",
    "        new_dict = {}\n",
    "        one_dict = json.loads(one)\n",
    "        new_dict['id'] = one_dict['id']\n",
    "        new_dict['album'] = one_dict['album']\n",
    "        new_dict['company'] = one_dict['album_company']\n",
    "        new_dict['artist'] = one_dict['artist']\n",
    "        new_dict['artist_id'] = one_dict['artist_id']\n",
    "        new_dict['name'] = one_dict['name']\n",
    "        new_dict['popularity'] = one_dict['popularity']\n",
    "        songs.append(new_dict)\n",
    "    \n",
    "song_dict = {}\n",
    "for one in songs:\n",
    "    song_dict[one['id']] = one"
   ]
  },
  {
   "cell_type": "code",
   "execution_count": null,
   "metadata": {},
   "outputs": [],
   "source": [
    "for one in songs:\n",
    "    if one['artist'] == '林宥嘉' and one['popularity'] == 100:\n",
    "        print(one['name'])"
   ]
  },
  {
   "cell_type": "code",
   "execution_count": null,
   "metadata": {},
   "outputs": [],
   "source": [
    "for one in contents_dst[:100]:\n",
    "    print(list(map(lambda x:song_dict[x]['name'], one['songs'])))"
   ]
  },
  {
   "cell_type": "code",
   "execution_count": 31,
   "metadata": {},
   "outputs": [],
   "source": [
    "# 遍历所有歌单，生成模型 song2vec\n",
    "playlist_sequence = []\n",
    "for one in contents_dst:\n",
    "    song_sequence = list(map(lambda x:str(x), one['songs']))\n",
    "    for _ in range(len(song_sequence)//10):\n",
    "        new = list(song_sequence)\n",
    "        random.shuffle(new)\n",
    "        playlist_sequence.append(new)\n",
    "\n",
    "# out 为输出模型\n",
    "out = 'song2vec.model'\n",
    "model = Word2Vec(sentences=playlist_sequence, size=100, window=5, min_count=5)\n",
    "model.save(out)"
   ]
  },
  {
   "cell_type": "code",
   "execution_count": 5,
   "metadata": {},
   "outputs": [],
   "source": [
    "# 测试模型song2vec\n",
    "def test(song_id):\n",
    "    model = gensim.models.Word2Vec.load(\"song2vec.model\")\n",
    "    result = model.most_similar(str(song_id))\n",
    "    print(\"\\n与 {} 的 {} 相似的歌曲有：\".format(song_dict[song_id]['artist'],song_dict[song_id]['name']))\n",
    "    result_li = []\n",
    "    for one in result:\n",
    "#         print(((song_dict[int(one[0])]['artist'],song_dict[int(one[0])]['name']), round(float(one[1]), 3)))\n",
    "        print(song_dict[int(one[0])]['artist']+' '+song_dict[int(one[0])]['name'])\n",
    "        result_li.append(((song_dict[int(one[0])]['artist'],song_dict[int(one[0])]['name'],song_dict[int(one[0])]['popularity']), round(float(one[1]), 3)))\n",
    "    return result_li"
   ]
  },
  {
   "cell_type": "code",
   "execution_count": 8,
   "metadata": {
    "scrolled": true
   },
   "outputs": [
    {
     "data": {
      "text/plain": [
       "[{'album': '成全',\n",
       "  'artist': '林宥嘉',\n",
       "  'artist_id': 3685,\n",
       "  'company': '华研',\n",
       "  'id': 562594267,\n",
       "  'name': '成全',\n",
       "  'popularity': 100.0},\n",
       " {'album': '蒙面唱将猜猜猜 第一期',\n",
       "  'artist': '林宥嘉',\n",
       "  'artist_id': 3685,\n",
       "  'company': '灿星文化',\n",
       "  'id': 431259309,\n",
       "  'name': '成全',\n",
       "  'popularity': 100.0}]"
      ]
     },
     "execution_count": 8,
     "metadata": {},
     "output_type": "execute_result"
    }
   ],
   "source": [
    "candidate = []\n",
    "for one in songs:\n",
    "    if one['name'] == '成全' and one['artist'] == '林宥嘉':\n",
    "        candidate.append(one)\n",
    "sorted(candidate, key=lambda x:x['popularity'], reverse=True)"
   ]
  },
  {
   "cell_type": "code",
   "execution_count": 9,
   "metadata": {
    "scrolled": true
   },
   "outputs": [
    {
     "name": "stdout",
     "output_type": "stream",
     "text": [
      "\n",
      "与 林宥嘉 的 成全 相似的歌曲有：\n",
      "五月天 后来的我们\n",
      "薛之谦 哑巴\n",
      "李荣浩 戒烟\n",
      "薛之谦 肆无忌惮\n",
      "赵紫骅 可乐\n",
      "周兴哲 你，好不好？\n",
      "田馥甄 你就不要想起我\n",
      "毛不易 无问\n",
      "陈奕迅 我们\n",
      "田馥甄 爱了很久的朋友\n"
     ]
    },
    {
     "data": {
      "text/plain": [
       "[(('五月天', '后来的我们', 100.0), 0.963),\n",
       " (('薛之谦', '哑巴', 100.0), 0.962),\n",
       " (('李荣浩', '戒烟', 100.0), 0.955),\n",
       " (('薛之谦', '肆无忌惮', 100.0), 0.947),\n",
       " (('赵紫骅', '可乐', 100.0), 0.945),\n",
       " (('周兴哲', '你，好不好？', 100.0), 0.943),\n",
       " (('田馥甄', '你就不要想起我', 100.0), 0.941),\n",
       " (('毛不易', '无问', 100.0), 0.941),\n",
       " (('陈奕迅', '我们', 100.0), 0.94),\n",
       " (('田馥甄', '爱了很久的朋友', 100.0), 0.935)]"
      ]
     },
     "execution_count": 9,
     "metadata": {},
     "output_type": "execute_result"
    }
   ],
   "source": [
    "test(562594267)"
   ]
  },
  {
   "cell_type": "code",
   "execution_count": 62,
   "metadata": {},
   "outputs": [
    {
     "name": "stdout",
     "output_type": "stream",
     "text": [
      "184991\n"
     ]
    }
   ],
   "source": [
    "# 生成artist_id => 歌手名对应表  \n",
    "singer_dict = dict()\n",
    "for one in songs:\n",
    "    if one['artist_id'] != 0:\n",
    "        singer_dict[one['artist']] = one['artist_id']\n",
    "    singer_dict[one['artist_id']]= one['artist']\n",
    "print(len(singer_dict))"
   ]
  },
  {
   "cell_type": "code",
   "execution_count": 52,
   "metadata": {},
   "outputs": [],
   "source": [
    "# 遍历所有歌单，生成模型 singer2vec\n",
    "playlist_sequence = []\n",
    "for one in contents_dst:\n",
    "    song_sequence = list(map(lambda x:str(song_dict[x]['artist_id']), one['songs']))\n",
    "    for _ in range(len(song_sequence)//10):\n",
    "        new = list(song_sequence)\n",
    "        random.shuffle(new)\n",
    "        playlist_sequence.append(new)\n",
    "\n",
    "# out 为输出模型\n",
    "out = 'singer2vec.model'\n",
    "model = Word2Vec(sentences=playlist_sequence, size=100, window=5, min_count=5)\n",
    "model.save(out)"
   ]
  },
  {
   "cell_type": "code",
   "execution_count": 60,
   "metadata": {},
   "outputs": [],
   "source": [
    "# 测试模型singer2vec\n",
    "def test_singer(singer_id):\n",
    "    model = gensim.models.Word2Vec.load(\"singer2vec.model\")\n",
    "    result = model.most_similar(str(singer_id))\n",
    "    print(\"与 \"+singer_dict[singer_id]+\" 相似的歌手是：\")\n",
    "    for one in result:\n",
    "        print((singer_dict[int(one[0])], round(float(one[1]), 3)))"
   ]
  },
  {
   "cell_type": "code",
   "execution_count": 63,
   "metadata": {
    "scrolled": true
   },
   "outputs": [
    {
     "name": "stdout",
     "output_type": "stream",
     "text": [
      "与 林宥嘉 相似的歌手是：\n",
      "('田馥甄', 0.735)\n",
      "('周兴哲', 0.716)\n",
      "('陈势安', 0.684)\n",
      "('郭顶', 0.672)\n",
      "('李代沫', 0.652)\n",
      "('赵紫骅', 0.634)\n",
      "('张禄籴', 0.626)\n",
      "('陈嘉桦', 0.626)\n",
      "('光泽', 0.625)\n",
      "('AllenRock', 0.623)\n"
     ]
    }
   ],
   "source": [
    "test_singer(singer_dict['林宥嘉'])"
   ]
  },
  {
   "cell_type": "code",
   "execution_count": null,
   "metadata": {},
   "outputs": [],
   "source": [
    "with open('likes.txt', 'r', encoding='utf8') as file:\n",
    "    user_test = eval(file.readline())\n",
    "for i in user_test.keys():\n",
    "    sort_li = collections.defaultdict()\n",
    "    print('\\n第{}个user喜欢的歌有：'.format(i))\n",
    "    for song_id_list in user_test[i]:\n",
    "        result=(song_dict[int(song_id_list)]['artist'],song_dict[int(song_id_list)]['name'])\n",
    "        print(result)"
   ]
  },
  {
   "cell_type": "code",
   "execution_count": null,
   "metadata": {},
   "outputs": [],
   "source": [
    "# 为9个user做推荐测试\n",
    "with open('user_result.txt', 'w', encoding='utf8') as file:\n",
    "    for i in user_test.keys():\n",
    "        sort_li = collections.defaultdict(float)\n",
    "        for song_id_list in user_test[i]:\n",
    "            result=test(int(song_id_list))\n",
    "            for song in result:\n",
    "                sort_li[song[0]] += song[1] * song[0][2] \n",
    "        print('为第'+i+'个user推荐的歌曲为：')\n",
    "        result = [(one, sort_li[one]) for one in sorted(sort_li, key=lambda x:sort_li[x], reverse=True)][:10]\n",
    "        print(result)\n",
    "        file.write('为第'+i+'个user推荐的歌曲为：'+str(result)+'\\n')\n"
   ]
  },
  {
   "cell_type": "code",
   "execution_count": 78,
   "metadata": {},
   "outputs": [
    {
     "name": "stdout",
     "output_type": "stream",
     "text": [
      "\n",
      "与 Pianoboy高至豪 的 The truth that you leave 相似的歌曲有：\n",
      "DJ Okawari Flower Dance\n",
      "Nigel Silin Sakura Tears\n",
      "Cymophane Tassel\n",
      "Anan Ryoko Refrain\n",
      "Martin Ermen River Flows In You\n",
      "K. Williams 菊次郎的夏天\n",
      "广东雨神 广东十年爱情故事\n",
      "iris Letter\n",
      "Valentin A Little Story\n",
      "Maksim Mrvica Croatian Rhapsody\n",
      "\n",
      "与 Dragon Pig 的 全部都是你 相似的歌曲有：\n",
      "薛明媛 非酋\n",
      "新乐尘符 123我爱你\n",
      "校长 带你去旅行\n",
      "白小白 最美情侣\n",
      "刘佳 爱的就是你\n",
      "萧全 不仅仅是喜欢\n",
      "Ryan.B 再也没有\n",
      "麦小兜 9420\n",
      "KT 7538(Me U-Remix)\n",
      "Gibb-Z 陪着你走\n",
      "\n",
      "与 鹿先森乐队 的 春风十里 相似的歌曲有：\n",
      "任素汐 我要你\n",
      "陈鸿宇 理想三旬\n",
      "刘昊霖 儿时\n",
      "Jam 七月上\n",
      "谢春花 借我\n",
      "花粥 遥不可及的你\n",
      "谢春花 我一定会爱上你\n",
      "刘瑞琦 房间\n",
      "房东的猫 秋酿\n",
      "陈绮贞 我喜欢上你时的内心活动\n",
      "\n",
      "与 Vicetone 的 Nevada 相似的歌曲有：\n",
      "Alan Walker The Spectre\n",
      "Alan Walker Alone\n",
      "Mike Perry The Ocean (Radio Edit)\n",
      "Martin Tungevaag Wicked Wonderland (Radio Edit)\n",
      "Alan Walker All Falls Down\n",
      "TheFatRat Monody\n",
      "Alan Walker Faded\n",
      "Alan Walker Hymn For The Weekend [Remix]\n",
      "Aash Mehta Clsr (Aash Mehta Flip)\n",
      "Anthony Keyrouz Something Just Like This\n",
      "\n",
      "与 谢安琪 的 钟无艳 相似的歌曲有：\n",
      "郑欣宜 上心\n",
      "陈柏宇 你瞒我瞒\n",
      "梁汉文 七友\n",
      "谢安琪 喜帖街\n",
      "杨千嬅 可惜我是水瓶座\n",
      "邓丽欣 电灯胆\n",
      "吴雨霏 吴哥窟\n",
      "周柏豪 够钟\n",
      "杨千嬅 小城大事\n",
      "金玟岐 岁月神偷\n",
      "\n",
      "与 孙燕姿 的 遇见 相似的歌曲有：\n",
      "陈小春 独家记忆\n",
      "莫文蔚 阴天\n",
      "林俊杰 修炼爱情\n",
      "林俊杰 她说\n",
      "郭静 心墙\n",
      "李荣浩 不将就\n",
      "薛之谦 认真的雪\n",
      "苏打绿 我好想你\n",
      "孙燕姿 我怀念的\n",
      "曲婉婷 我的歌声里\n",
      "\n",
      "与 Two Steps From Hell 的 Victory 相似的歌曲有：\n",
      "Mark Petrie Go Time\n",
      "Audio Machine Breath and Life\n",
      "Two Steps From Hell Star Sky\n",
      "Dreamtale Intro: The Dawn\n",
      "Two Steps From Hell El Dorado Dubstep (Remix) - remix\n",
      "Two Steps From Hell Strength Of A Thousand Men\n",
      "Era The Mass\n",
      "The xx Intro\n",
      "Ramin Djawadi Pacific Rim\n",
      "Two Steps From Hell Star Sky - Instrumental\n",
      "\n",
      "与 Justin Timberlake 的 Five Hundred Miles 相似的歌曲有：\n",
      "Passenger Let Her Go\n",
      "Tamas Wells Valder Fields\n",
      "Joel Hanson Traveling Light\n",
      "Eagles Hotel California\n",
      "Kim Taylor I Am You\n",
      "Daniel Powter Free Loop\n",
      "Chris Medina What Are Words\n",
      "Carpenters Yesterday Once More\n",
      "Lady Antebellum Need You Now\n",
      "Paul Simon Sound of Silence\n",
      "\n",
      "与 Maroon 5 的 Sugar 相似的歌曲有：\n",
      "One Direction What Makes You Beautiful\n",
      "Owl City Good Time\n",
      "Maroon 5 Moves Like Jagger\n",
      "Justin Bieber As Long As You Love Me\n",
      "Justin Bieber What Do You Mean?\n",
      "Maroon 5 Payphone\n",
      "Charlie Puth Look At Me Now\n",
      "Charli XCX Boom Clap\n",
      "Carly Rae Jepsen I Really Like You\n",
      "Carly Rae Jepsen Call Me Maybe\n",
      "\n",
      "与 朴树 的 平凡之路 相似的歌曲有：\n",
      "逃跑计划 夜空中最亮的星\n",
      "马頔 南山南\n",
      "赵雷 成都\n",
      "李荣浩 李白\n",
      "南征北战 我的天空\n",
      "宋冬野 安和桥\n",
      "金志文 远走高飞\n",
      "宋冬野 斑马，斑马\n",
      "赵雷 南方姑娘\n",
      "GALA 追梦赤子心\n",
      "\n",
      "与 高胜美 的 千年等一回 相似的歌曲有：\n",
      "左宏元 渡情\n",
      "刘欢 好汉歌\n",
      "许镜清 云宫迅音\n",
      "叶丽仪 上海滩\n",
      "赵薇 情深深雨蒙蒙\n",
      "罗文 铁血丹心\n",
      "林心如 你是风儿我是沙\n",
      "王志文 糊涂的爱\n",
      "谢东 清官谣\n",
      "动力火车 当\n",
      "\n",
      "与 MKJ 的 Time 相似的歌曲有：\n",
      "Бамбинтон Зая\n",
      "Consoul Trainin Take Me To Infinity\n",
      "Deepmaniak Just Like This (Original Mix)\n",
      "Timmy Trumpet Freaks (Radio Edit)\n",
      "Tom Budin Like I Would (Tom Budin Remix)\n",
      "Martin Tungevaag Wicked Wonderland (Radio Edit)\n",
      "Rag'N'Bone Man Skin\n",
      "Pascal Letoublon Friendships (Original Mix)\n",
      "PØRPEL Heartbeat (Nightcore) [PØRPEL Remix]\n",
      "Unlike Pluto Wannabe (Spice Girls Cover)\n",
      "\n",
      "与 陈奕迅 的 好久不见 相似的歌曲有：\n",
      "陈奕迅 不要说话\n",
      "陈奕迅 孤独患者\n",
      "李荣浩 不将就\n",
      "林俊杰 她说\n",
      "陈奕迅 红玫瑰\n",
      "陈奕迅 阴天快乐\n",
      "陈奕迅 淘汰\n",
      "王菲 匆匆那年\n",
      "胡夏 那些年\n",
      "杨宗纬 洋葱\n",
      "\n",
      "与 OmenXIII 的 Black Sheep 相似的歌曲有：\n",
      "Shane SAD\n",
      "Bones TroubledYouth\n",
      "BRENNAN SAVAGE Never Know (prod. savior)\n",
      "Shinigami ghosts\n",
      "Ku Plag oh, i forget\n",
      "SoLonely NOI$E\n",
      "LiL BO WEEP Sorrow \n",
      "graves Vega\n",
      "GONE42DAY SCREAMING INSIDE\n",
      "VELVETEARS This Must Be Hell (prod. Tau) \n",
      "\n",
      "与 茅野愛衣 的 secret base ~君がくれたもの~ (10 years after Ver.) 相似的歌曲有：\n",
      "Otokaze 夏恋\n",
      "DAOKO 打上花火\n",
      "ヲタみん Letter Song\n",
      "whiteeeen あの頃~ジンジンバオヂュオニー~\n",
      "伊藤サチコ いつも何度でも\n",
      "JAY'ED また君と\n",
      "majiko アイロニ\n",
      "Goose house 光るなら\n",
      "雨宮天 奏 (かなで)\n",
      "Aimer My Sweetest One\n",
      "\n",
      "与 房东的猫 的 云烟成雨 相似的歌曲有：\n",
      "徐秉龙 白羊\n",
      "徐秉龙 双子\n",
      "花粥 纸短情长\n",
      "卢焱 流浪\n",
      "阿肆 喜欢\n",
      "马良 往后余生\n",
      "烟把儿 纸短情长（完整版）\n",
      "花粥 遥不可及的你\n",
      "杨坤 答案\n",
      "不才 化身孤岛的鲸\n",
      "\n",
      "与 The Chainsmokers 的 Something Just Like This 相似的歌曲有：\n",
      "Martin Garrix There For You\n",
      "The Chainsmokers Closer\n",
      "Selena Gomez Wolves\n",
      "Alan Walker All Falls Down\n",
      "Zedd Beautiful Now\n",
      "Avicii Waiting For Love\n",
      "Alan Walker Hymn For The Weekend [Remix]\n",
      "DJ Snake Let Me Love You\n",
      "David Guetta 2U\n",
      "Charlie Puth Attention\n"
     ]
    }
   ],
   "source": [
    "# 热门歌曲推荐\n",
    "with open('hot.txt', 'r', encoding='utf8') as file:\n",
    "    hot_songs = file.readlines()\n",
    "    \n",
    "for one in hot_songs[4:21]:\n",
    "    test(int(one.split()[0]))"
   ]
  },
  {
   "cell_type": "code",
   "execution_count": null,
   "metadata": {},
   "outputs": [],
   "source": []
  }
 ],
 "metadata": {
  "kernelspec": {
   "display_name": "Python 3",
   "language": "python",
   "name": "python3"
  },
  "language_info": {
   "codemirror_mode": {
    "name": "ipython",
    "version": 3
   },
   "file_extension": ".py",
   "mimetype": "text/x-python",
   "name": "python",
   "nbconvert_exporter": "python",
   "pygments_lexer": "ipython3",
   "version": "3.6.2"
  }
 },
 "nbformat": 4,
 "nbformat_minor": 2
}
